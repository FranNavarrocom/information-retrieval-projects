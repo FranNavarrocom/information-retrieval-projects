{
 "cells": [
  {
   "cell_type": "markdown",
   "metadata": {},
   "source": [
    "# Classificação de Filmes usando suas Legendas"
   ]
  },
  {
   "cell_type": "code",
   "execution_count": 1,
   "metadata": {
    "collapsed": true
   },
   "outputs": [],
   "source": [
    "import re\n",
    "import glob\n",
    "from multiprocessing import Pool\n",
    "import numpy as np\n",
    "import pandas as pd\n",
    "import nltk"
   ]
  },
  {
   "cell_type": "markdown",
   "metadata": {},
   "source": [
    "## Pré-Processamento"
   ]
  },
  {
   "cell_type": "markdown",
   "metadata": {},
   "source": [
    "Primeiro iremos definir algumas constantes que serão úteis para nossa filtragem de dados."
   ]
  },
  {
   "cell_type": "code",
   "execution_count": 2,
   "metadata": {
    "collapsed": true
   },
   "outputs": [],
   "source": [
    "TITLE = re.compile(\"(\\/)(.*?)(\\.)\")\n",
    "HTML_TAG = re.compile(\"<.*?>\")\n",
    "\n",
    "STOP_WORDS = nltk.corpus.stopwords.words('portuguese')"
   ]
  },
  {
   "cell_type": "markdown",
   "metadata": {},
   "source": [
    "Abrimos o arquivo `categories.tsv` que possui a informação do filepath para a legenda e o respectivo gênero do filme, e salvamos essa informação em um DataFrame do pandas. Podemos observar então as primeiras cinco entradas do nosso arquivo, e ver que nosso DataFrame possui duas colunas (filepath e genre)."
   ]
  },
  {
   "cell_type": "code",
   "execution_count": 3,
   "metadata": {
    "collapsed": false
   },
   "outputs": [
    {
     "data": {
      "text/html": [
       "<div>\n",
       "<table border=\"1\" class=\"dataframe\">\n",
       "  <thead>\n",
       "    <tr style=\"text-align: right;\">\n",
       "      <th></th>\n",
       "      <th>filepath</th>\n",
       "      <th>genre</th>\n",
       "    </tr>\n",
       "  </thead>\n",
       "  <tbody>\n",
       "    <tr>\n",
       "      <th>0</th>\n",
       "      <td>10000 B.C.(2008).XViD-PreVaill.br.srt</td>\n",
       "      <td>Ação</td>\n",
       "    </tr>\n",
       "    <tr>\n",
       "      <th>1</th>\n",
       "      <td>127 Hours (2010).BDRip.Larceny.br.srt</td>\n",
       "      <td>Aventura</td>\n",
       "    </tr>\n",
       "    <tr>\n",
       "      <th>2</th>\n",
       "      <td>12 Rounds.DVDRip.aXXo.br.srt</td>\n",
       "      <td>Crime</td>\n",
       "    </tr>\n",
       "    <tr>\n",
       "      <th>3</th>\n",
       "      <td>15 Minutes(2001).br.srt</td>\n",
       "      <td>Crime</td>\n",
       "    </tr>\n",
       "    <tr>\n",
       "      <th>4</th>\n",
       "      <td>17 Again.720p.REFiNED.br.srt</td>\n",
       "      <td>Comédia</td>\n",
       "    </tr>\n",
       "  </tbody>\n",
       "</table>\n",
       "</div>"
      ],
      "text/plain": [
       "                                filepath     genre\n",
       "0  10000 B.C.(2008).XViD-PreVaill.br.srt      Ação\n",
       "1  127 Hours (2010).BDRip.Larceny.br.srt  Aventura\n",
       "2           12 Rounds.DVDRip.aXXo.br.srt     Crime\n",
       "3                15 Minutes(2001).br.srt     Crime\n",
       "4           17 Again.720p.REFiNED.br.srt   Comédia"
      ]
     },
     "execution_count": 3,
     "metadata": {},
     "output_type": "execute_result"
    }
   ],
   "source": [
    "subs = pd.read_csv(\"./categories.tsv\", sep=\"\\t\", names=[\"filepath\", \"genre\"])\n",
    "subs.head(5)"
   ]
  },
  {
   "cell_type": "markdown",
   "metadata": {},
   "source": [
    "### _Parsing_ Arquivos"
   ]
  },
  {
   "cell_type": "markdown",
   "metadata": {},
   "source": [
    "Com a informação do nome do arquivo de cada legenda, fazemos então o parse do texto de cada legenda, removendo as marcações de tempo, e para evitar informações irrelevantes, removemos os três primeiros e ultimos blocos de legenda, já que em geral são utilizadas para creditar as pessoas responsaveis pela legenda, assim como definir estilos para as legendas.\n",
    "\n",
    "Note que estamos adicionando as strings de legenda ao nosso DataFrame __subs__ que agora possui três colunas (filepath, genre e subtitle)"
   ]
  },
  {
   "cell_type": "code",
   "execution_count": 4,
   "metadata": {
    "collapsed": false
   },
   "outputs": [],
   "source": [
    "def canonize(text):\n",
    "    text = HTML_TAG.sub(\"\", text)\n",
    "    return text\n",
    "\n",
    "def parse_text(filepath):\n",
    "    def parse_block(block):\n",
    "        lines   = block.split('\\n')\n",
    "        txt     = ' '.join(lines[2:])\n",
    "        txt     = canonize(txt)\n",
    "        return txt\n",
    "    \n",
    "    # We don't consider the first and last three blocks, since usually they're credits for\n",
    "    # the translators and/or style definition for the subtitles.\n",
    "    with open(filepath, encoding=\"latin-1\") as f:\n",
    "        sub_file = f.read()\n",
    "        sub_file = sub_file.strip().replace('\\r', '').split('\\n\\n')[3:-3]\n",
    "        lines = map(parse_block, sub_file)\n",
    "        return ' '.join(lines).strip()"
   ]
  },
  {
   "cell_type": "code",
   "execution_count": 5,
   "metadata": {
    "collapsed": false
   },
   "outputs": [
    {
     "data": {
      "text/html": [
       "<div>\n",
       "<table border=\"1\" class=\"dataframe\">\n",
       "  <thead>\n",
       "    <tr style=\"text-align: right;\">\n",
       "      <th></th>\n",
       "      <th>filepath</th>\n",
       "      <th>genre</th>\n",
       "      <th>subtitle</th>\n",
       "    </tr>\n",
       "  </thead>\n",
       "  <tbody>\n",
       "    <tr>\n",
       "      <th>0</th>\n",
       "      <td>10000 B.C.(2008).XViD-PreVaill.br.srt</td>\n",
       "      <td>Ação</td>\n",
       "      <td>E será sussurrada aos quatro ventos das grande...</td>\n",
       "    </tr>\n",
       "    <tr>\n",
       "      <th>1</th>\n",
       "      <td>127 Hours (2010).BDRip.Larceny.br.srt</td>\n",
       "      <td>Aventura</td>\n",
       "      <td>mas pense no que vamos tocar. Por favor. Preci...</td>\n",
       "    </tr>\n",
       "    <tr>\n",
       "      <th>2</th>\n",
       "      <td>12 Rounds.DVDRip.aXXo.br.srt</td>\n",
       "      <td>Crime</td>\n",
       "      <td>Revisão: Bozano, Nininha e Virtualnet.  00:00:...</td>\n",
       "    </tr>\n",
       "    <tr>\n",
       "      <th>3</th>\n",
       "      <td>15 Minutes(2001).br.srt</td>\n",
       "      <td>Crime</td>\n",
       "      <td>-Não perca tempo. -Está bem Ouviu o que eu dis...</td>\n",
       "    </tr>\n",
       "    <tr>\n",
       "      <th>4</th>\n",
       "      <td>17 Again.720p.REFiNED.br.srt</td>\n",
       "      <td>Comédia</td>\n",
       "      <td>O'Donnell, poupe-se para o jogo! Só estou aque...</td>\n",
       "    </tr>\n",
       "  </tbody>\n",
       "</table>\n",
       "</div>"
      ],
      "text/plain": [
       "                                filepath     genre  \\\n",
       "0  10000 B.C.(2008).XViD-PreVaill.br.srt      Ação   \n",
       "1  127 Hours (2010).BDRip.Larceny.br.srt  Aventura   \n",
       "2           12 Rounds.DVDRip.aXXo.br.srt     Crime   \n",
       "3                15 Minutes(2001).br.srt     Crime   \n",
       "4           17 Again.720p.REFiNED.br.srt   Comédia   \n",
       "\n",
       "                                            subtitle  \n",
       "0  E será sussurrada aos quatro ventos das grande...  \n",
       "1  mas pense no que vamos tocar. Por favor. Preci...  \n",
       "2  Revisão: Bozano, Nininha e Virtualnet.  00:00:...  \n",
       "3  -Não perca tempo. -Está bem Ouviu o que eu dis...  \n",
       "4  O'Donnell, poupe-se para o jogo! Só estou aque...  "
      ]
     },
     "execution_count": 5,
     "metadata": {},
     "output_type": "execute_result"
    }
   ],
   "source": [
    "subtitle = []\n",
    "\n",
    "for row in subs['filepath']:\n",
    "    filepath = 'Legendas/' + row\n",
    "    try:\n",
    "        text = parse_text(filepath)\n",
    "    except FileNotFoundError:\n",
    "        text = None\n",
    "\n",
    "    subtitle.append(text)\n",
    "\n",
    "# add subtitle column to our subs df\n",
    "subs['subtitle'] = subtitle\n",
    "\n",
    "# remove rows with NAs\n",
    "subs = subs.dropna()\n",
    "\n",
    "subs.head(5)"
   ]
  },
  {
   "cell_type": "markdown",
   "metadata": {},
   "source": [
    "## Classificadores"
   ]
  },
  {
   "cell_type": "markdown",
   "metadata": {},
   "source": [
    "### Matriz TF-IDF"
   ]
  },
  {
   "cell_type": "markdown",
   "metadata": {},
   "source": [
    "Agora temos em mãos todos os dados que iremos precisarpara realizar as nossas análises e treinar nossos modelos de predição.\n",
    "\n",
    "Vamos então definir o método responsavel por _tokenizar_ nossas legendas e então usando o mesmo criar um _tokenizer_ usando o algoritmo TF-IDF. Note que criamos dois tokenizers, um sem utilizar _stemming_ e outro usando _stemming_ dos tokens."
   ]
  },
  {
   "cell_type": "code",
   "execution_count": 17,
   "metadata": {
    "collapsed": false
   },
   "outputs": [],
   "source": [
    "from sklearn.feature_extraction.text import TfidfVectorizer\n",
    "\n",
    "\n",
    "def tokenize(text, stem=False):\n",
    "    ''' Tokenizer\n",
    "    \n",
    "    receives text (string) and return list of tokenized text, can receive an extra parameter in order\n",
    "    to stem the strings.\n",
    "    '''\n",
    "    sent_tokenizer = nltk.data.load('tokenizers/punkt/portuguese.pickle')\n",
    "    \n",
    "    tokens = [word.lower() for sentence in sent_tokenizer.tokenize(text) \\\n",
    "              for word in nltk.word_tokenize(sentence) if word.isalpha()]\n",
    "    if stem:\n",
    "        stemmer = nltk.stem.RSLPStemmer()\n",
    "        stems = [stemmer.stem(token) for token in tokens]\n",
    "        return stems\n",
    "    else:\n",
    "        return tokens\n",
    "    \n",
    "def tokenize_and_stem(text):\n",
    "    return tokenize(text, stem=True)\n",
    "\n",
    "# define TF-IDF parameters (w/o stemming)\n",
    "tfidf_vectorizer = TfidfVectorizer(max_df=0.8, max_features=200000,\n",
    "                                   min_df=0.2, stop_words=STOP_WORDS,\n",
    "                                  use_idf=True, tokenizer=tokenize, ngram_range=(1,3))\n",
    "\n",
    "# define TF-IDF parameters (w/ stemming)\n",
    "tfidf_vectorizer_stemmed = TfidfVectorizer(max_df=0.8, max_features=200000,\n",
    "                                   min_df=0.2, stop_words=STOP_WORDS,\n",
    "                                  use_idf=True, tokenizer=tokenize_and_stem, ngram_range=(1,3))"
   ]
  },
  {
   "cell_type": "markdown",
   "metadata": {},
   "source": [
    "Tendo as matrizes dos termos e documentos usando o algoritmo _TF-IDF_, podemos então treinar nos classificadores utilizando a matriz com os termos com e sem _stemming_."
   ]
  },
  {
   "cell_type": "code",
   "execution_count": 7,
   "metadata": {
    "collapsed": false
   },
   "outputs": [
    {
     "name": "stdout",
     "output_type": "stream",
     "text": [
      "CPU times: user 2min 42s, sys: 3.66 s, total: 2min 46s\n",
      "Wall time: 2min 53s\n",
      "shape of TF-IDF Matrix:  (644, 1648)\n",
      "CPU times: user 6min 12s, sys: 5.28 s, total: 6min 17s\n",
      "Wall time: 6min 26s\n",
      "shape of TF-IDF Matrix (stemmed tokens):  (644, 2027)\n"
     ]
    }
   ],
   "source": [
    "%time tfidf_matrix = tfidf_vectorizer.fit_transform(subs['subtitle'])\n",
    "print(\"shape of TF-IDF Matrix: \", tfidf_matrix.shape)\n",
    "\n",
    "%time tfidf_matrix_stemmed = tfidf_vectorizer_stemmed.fit_transform(subs['subtitle'])\n",
    "print(\"shape of TF-IDF Matrix (stemmed tokens): \", tfidf_matrix_stemmed.shape)"
   ]
  },
  {
   "cell_type": "markdown",
   "metadata": {},
   "source": [
    "### K-Nearest neighbors"
   ]
  },
  {
   "cell_type": "markdown",
   "metadata": {},
   "source": [
    "Podemos então observar que nosso modelo possui praticamente nenhuma diferença entre o nivel de predição, ambos acertam em média __45%__ dos gêneros de todos os filmes."
   ]
  },
  {
   "cell_type": "code",
   "execution_count": 8,
   "metadata": {
    "collapsed": false
   },
   "outputs": [
    {
     "name": "stdout",
     "output_type": "stream",
     "text": [
      "CPU times: user 3.98 ms, sys: 6.97 ms, total: 10.9 ms\n",
      "Wall time: 11.5 ms\n",
      "\n",
      "CPU times: user 2.76 ms, sys: 799 µs, total: 3.56 ms\n",
      "Wall time: 3.35 ms\n"
     ]
    }
   ],
   "source": [
    "from sklearn.neighbors import KNeighborsClassifier\n",
    "\n",
    "knn = KNeighborsClassifier(algorithm='auto')\n",
    "%time knn_classifier = knn.fit(tfidf_matrix, subs['genre'])\n",
    "\n",
    "print()\n",
    "knn_stemmed = KNeighborsClassifier(algorithm='auto')\n",
    "%time knn_stemmed_classifier = knn_stemmed.fit(tfidf_matrix_stemmed, subs['genre'])"
   ]
  },
  {
   "cell_type": "code",
   "execution_count": 9,
   "metadata": {
    "collapsed": false
   },
   "outputs": [
    {
     "name": "stdout",
     "output_type": "stream",
     "text": [
      "KNN Score:  0.459627329193\n",
      "KNN Score (Stemmed):  0.453416149068\n"
     ]
    }
   ],
   "source": [
    "print(\"KNN Score: \", knn_classifier.score(tfidf_matrix, subs['genre']))\n",
    "print(\"KNN Score (Stemmed): \", knn_stemmed_classifier.score(tfidf_matrix_stemmed, subs['genre']))"
   ]
  },
  {
   "cell_type": "markdown",
   "metadata": {},
   "source": [
    "### Support vector machines (SVMs)"
   ]
  },
  {
   "cell_type": "markdown",
   "metadata": {},
   "source": [
    "Podemos extrapolar um pouco e testar um novo método de predição, nesse caso estou usando _Support vector machines (SVMs) mais especificamente iremos utilizar _SVM_ com um _kernel_ linear.\n",
    "\n",
    "Têmos um grande salto de precisão utilizando _SVMs_, tanto usando stemming como não usando stemming, respectivamente temos _82.91%_ e _82.41%_ de acerto usando os nossos dados para verificação. Portanto um ganho significativo de aproximadamente _40%_."
   ]
  },
  {
   "cell_type": "code",
   "execution_count": 10,
   "metadata": {
    "collapsed": false
   },
   "outputs": [
    {
     "name": "stdout",
     "output_type": "stream",
     "text": [
      "CPU times: user 4.6 s, sys: 58.7 ms, total: 4.66 s\n",
      "Wall time: 5.34 s\n",
      "CPU times: user 4.85 s, sys: 45.5 ms, total: 4.89 s\n",
      "Wall time: 4.96 s\n"
     ]
    }
   ],
   "source": [
    "from sklearn import svm\n",
    "\n",
    "svc_linear = svm.SVC(kernel='linear')\n",
    "%time svc_linear_classifier = svc_linear.fit(tfidf_matrix, subs['genre'])\n",
    "\n",
    "svc_linear_stemmed = svm.SVC(kernel='linear')\n",
    "%time svc_linear_stemmed_classifier = svc_linear_stemmed.fit(tfidf_matrix_stemmed, subs['genre'])"
   ]
  },
  {
   "cell_type": "code",
   "execution_count": 11,
   "metadata": {
    "collapsed": false
   },
   "outputs": [
    {
     "name": "stdout",
     "output_type": "stream",
     "text": [
      "svc linear (w/o stemming):  0.824534161491\n",
      "svc linear (w/ stemming) :  0.829192546584\n"
     ]
    }
   ],
   "source": [
    "print('svc linear (w/o stemming): ', svc_linear_classifier.score(tfidf_matrix, subs['genre']))\n",
    "print('svc linear (w/ stemming) : ', svc_linear_stemmed_classifier.score(tfidf_matrix_stemmed, subs['genre']))"
   ]
  },
  {
   "cell_type": "markdown",
   "metadata": {},
   "source": [
    "## Testando Queries"
   ]
  },
  {
   "cell_type": "markdown",
   "metadata": {},
   "source": [
    "Com nossas queries abaixo, podemos rodar nós dois melhores modelos usando cada técnica, KNN sem usar stemming e SVM Linear usando stemming."
   ]
  },
  {
   "cell_type": "code",
   "execution_count": 12,
   "metadata": {
    "collapsed": false
   },
   "outputs": [],
   "source": [
    "# Queries in the format (title, Subtitle)\n",
    "queries = {\n",
    "          \"The Bourne Identity\": \"Bourne Identity The.720p.ESiR.br.srt\",\n",
    "          \"Bruce Almighty\": \"Bruce.Almighty.XviD.MTT.srt\",\n",
    "          \"Free Willy\": \"Lord of the Rings The Fellowship of the Ring The.DVDRip.SecretMyth.br.srt\",\n",
    "          \"The Godfather\": \"Fantastic Four.DVDRip.br.srt\",\n",
    "          \"Iron Man\": \"Iron Man.TS.KingBen.br.srt\",\n",
    "          \"Platoon\": \"Platoon (1986).720p.br.srt\",\n",
    "          \"Puss in Boots\": \"Puss in Boots (2011).BRRIP.3LT0N.br.srt\",\n",
    "          \"Scarface\": \"Scarface.br.srt\",\n",
    "          \"Pretty Woman\": \"Pretty Woman.720p.AVS720.br.srt\",\n",
    "          \"Fast Food Nation\": \"Fast Food Nation(2006).br.srt\",\n",
    "          }\n",
    "\n",
    "\n",
    "# titles = []\n",
    "# genres = []\n",
    "# predicted_genres = []\n",
    "\n",
    "# for title, filepath in queries.items():\n",
    "#     subs_entry = subs[subs['filepath'] == filepath]\n",
    "    \n",
    "#     querie_tfidf = tfidf_vectorizer.transform(subs_entry['subtitle'])\n",
    "#     predicted = knn_classifier.predict(querie_tfidf)[0]\n",
    "    \n",
    "#     # populate columns\n",
    "#     titles.append(title)\n",
    "#     genres.append(subs_entry['genre'].to_string(index=False))\n",
    "#     predicted_genres.append(predicted)\n",
    "    \n",
    "\n",
    "# df_results = pd.DataFrame({'title': titles, 'genres': genres, 'predicted': predicted_genres},\n",
    "#                           columns=['title', 'genres', 'predicted'])"
   ]
  },
  {
   "cell_type": "code",
   "execution_count": 13,
   "metadata": {
    "collapsed": false
   },
   "outputs": [],
   "source": [
    "def test_queries(queries, classifier, vectorizer):\n",
    "    titles = []\n",
    "    genres = []\n",
    "    predicted_genres = []\n",
    "\n",
    "    for title, filepath in queries.items():\n",
    "        subs_entry = subs[subs['filepath'] == filepath]\n",
    "\n",
    "        querie_tfidf = vectorizer.transform(subs_entry['subtitle'])\n",
    "        predicted = classifier.predict(querie_tfidf)[0]\n",
    "\n",
    "        # populate columns\n",
    "        titles.append(title)\n",
    "        genres.append(subs_entry['genre'].to_string(index=False))\n",
    "        predicted_genres.append(predicted)\n",
    "\n",
    "\n",
    "    df_results = pd.DataFrame({'title': titles, 'genres': genres, 'predicted': predicted_genres},\n",
    "                              columns=['title', 'genres', 'predicted'])\n",
    "\n",
    "    return df_results"
   ]
  },
  {
   "cell_type": "markdown",
   "metadata": {},
   "source": [
    "### Análise Resultados Usando KNN"
   ]
  },
  {
   "cell_type": "markdown",
   "metadata": {},
   "source": [
    "- __Pretty Woman__: Foi enquadrado como uma comédia, porêm o gênero correto seria comédia romântica, eu creio que é uma predição que faz bastante sentido.\n",
    "- __Iron Man__: Alêm das varias tiradas  cômicas caracteristicas de filmes da frânquia do Homem de Ferro, não consigo entender bem o que faria esse filme ser classificado como comédia.\n",
    "- __Free Willy__: Acertou :)\n",
    "- __Platoon__: Nunca assisti o filme e baseado em sinopses do IMDB não consigo entender bem porque o modelo o classificaria como Ficção Científica, alêm do fato que muitos filmes de Ficção Científica em geral são sobre guerra.\n",
    "- __Scarface__: Acertou\n",
    "- __Bruce Almighty__: Acertou\n",
    "- __Fast Food Nation__: Classificar documentarios é algo bastante complicado eu creio, dado o fato que eles em geral não têm um tema comum.\n",
    "- __Puss in Boots__: Embora seja um filme Infantil é um filme de aventura de certa forma, fazendo sentido ele ser classificado como uma aventura.\n",
    "- __The Bourne Identity__: Não consigo entender bem o porque esse filme foi classificado como uma comédia.\n",
    "- __The Godfather__: Acertou"
   ]
  },
  {
   "cell_type": "code",
   "execution_count": 14,
   "metadata": {
    "collapsed": false
   },
   "outputs": [
    {
     "data": {
      "text/html": [
       "<div>\n",
       "<table border=\"1\" class=\"dataframe\">\n",
       "  <thead>\n",
       "    <tr style=\"text-align: right;\">\n",
       "      <th></th>\n",
       "      <th>title</th>\n",
       "      <th>genres</th>\n",
       "      <th>predicted</th>\n",
       "    </tr>\n",
       "  </thead>\n",
       "  <tbody>\n",
       "    <tr>\n",
       "      <th>0</th>\n",
       "      <td>The Bourne Identity</td>\n",
       "      <td>Ação</td>\n",
       "      <td>Comédia</td>\n",
       "    </tr>\n",
       "    <tr>\n",
       "      <th>1</th>\n",
       "      <td>Fast Food Nation</td>\n",
       "      <td>Documentário</td>\n",
       "      <td>Comédia</td>\n",
       "    </tr>\n",
       "    <tr>\n",
       "      <th>2</th>\n",
       "      <td>Platoon</td>\n",
       "      <td>Ação</td>\n",
       "      <td>Ficção científica</td>\n",
       "    </tr>\n",
       "    <tr>\n",
       "      <th>3</th>\n",
       "      <td>Free Willy</td>\n",
       "      <td>Aventura</td>\n",
       "      <td>Aventura</td>\n",
       "    </tr>\n",
       "    <tr>\n",
       "      <th>4</th>\n",
       "      <td>The Godfather</td>\n",
       "      <td>Aventura</td>\n",
       "      <td>Aventura</td>\n",
       "    </tr>\n",
       "    <tr>\n",
       "      <th>5</th>\n",
       "      <td>Puss in Boots</td>\n",
       "      <td>Infantil</td>\n",
       "      <td>Aventura</td>\n",
       "    </tr>\n",
       "    <tr>\n",
       "      <th>6</th>\n",
       "      <td>Iron Man</td>\n",
       "      <td>Aventura</td>\n",
       "      <td>Comédia</td>\n",
       "    </tr>\n",
       "    <tr>\n",
       "      <th>7</th>\n",
       "      <td>Bruce Almighty</td>\n",
       "      <td>Comédia</td>\n",
       "      <td>Comédia</td>\n",
       "    </tr>\n",
       "    <tr>\n",
       "      <th>8</th>\n",
       "      <td>Scarface</td>\n",
       "      <td>Crime</td>\n",
       "      <td>Crime</td>\n",
       "    </tr>\n",
       "    <tr>\n",
       "      <th>9</th>\n",
       "      <td>Pretty Woman</td>\n",
       "      <td>Comédia Romântica</td>\n",
       "      <td>Comédia</td>\n",
       "    </tr>\n",
       "  </tbody>\n",
       "</table>\n",
       "</div>"
      ],
      "text/plain": [
       "                 title             genres          predicted\n",
       "0  The Bourne Identity               Ação            Comédia\n",
       "1     Fast Food Nation       Documentário            Comédia\n",
       "2              Platoon               Ação  Ficção científica\n",
       "3           Free Willy           Aventura           Aventura\n",
       "4        The Godfather           Aventura           Aventura\n",
       "5        Puss in Boots           Infantil           Aventura\n",
       "6             Iron Man           Aventura            Comédia\n",
       "7       Bruce Almighty            Comédia            Comédia\n",
       "8             Scarface              Crime              Crime\n",
       "9         Pretty Woman  Comédia Romântica            Comédia"
      ]
     },
     "execution_count": 14,
     "metadata": {},
     "output_type": "execute_result"
    }
   ],
   "source": [
    "test_queries(queries, knn_classifier, tfidf_vectorizer)"
   ]
  },
  {
   "cell_type": "markdown",
   "metadata": {},
   "source": [
    "### Análise Resultados Usando SVM"
   ]
  },
  {
   "cell_type": "markdown",
   "metadata": {},
   "source": [
    "- __Pretty Woman__: Alêm dos momentos de drama caracteristicos de comédias românticas, não entendo o porque o modelo classificaria esse filme como um Drama.\n",
    "- __Iron Man__: Acertou.\n",
    "- __Free Willy__: Acertou.\n",
    "- __Platoon__: Acertou.\n",
    "- __Scarface__: Acertou.\n",
    "- __Bruce Almighty__: Acertou\n",
    "- __Fast Food Nation__: Novamente eu creio que seja bastante complicado para o nosso modelo conseguir predizer o gênero documentario dado a abrangência de temas entre eles.\n",
    "- __Puss in Boots__: Acertou.\n",
    "- __The Bourne Identity__: Acertou.\n",
    "- __The Godfather__: Acertou"
   ]
  },
  {
   "cell_type": "code",
   "execution_count": 15,
   "metadata": {
    "collapsed": false
   },
   "outputs": [
    {
     "data": {
      "text/html": [
       "<div>\n",
       "<table border=\"1\" class=\"dataframe\">\n",
       "  <thead>\n",
       "    <tr style=\"text-align: right;\">\n",
       "      <th></th>\n",
       "      <th>title</th>\n",
       "      <th>genres</th>\n",
       "      <th>predicted</th>\n",
       "    </tr>\n",
       "  </thead>\n",
       "  <tbody>\n",
       "    <tr>\n",
       "      <th>0</th>\n",
       "      <td>The Bourne Identity</td>\n",
       "      <td>Ação</td>\n",
       "      <td>Ação</td>\n",
       "    </tr>\n",
       "    <tr>\n",
       "      <th>1</th>\n",
       "      <td>Fast Food Nation</td>\n",
       "      <td>Documentário</td>\n",
       "      <td>Drama</td>\n",
       "    </tr>\n",
       "    <tr>\n",
       "      <th>2</th>\n",
       "      <td>Platoon</td>\n",
       "      <td>Ação</td>\n",
       "      <td>Ação</td>\n",
       "    </tr>\n",
       "    <tr>\n",
       "      <th>3</th>\n",
       "      <td>Free Willy</td>\n",
       "      <td>Aventura</td>\n",
       "      <td>Aventura</td>\n",
       "    </tr>\n",
       "    <tr>\n",
       "      <th>4</th>\n",
       "      <td>The Godfather</td>\n",
       "      <td>Aventura</td>\n",
       "      <td>Aventura</td>\n",
       "    </tr>\n",
       "    <tr>\n",
       "      <th>5</th>\n",
       "      <td>Puss in Boots</td>\n",
       "      <td>Infantil</td>\n",
       "      <td>Infantil</td>\n",
       "    </tr>\n",
       "    <tr>\n",
       "      <th>6</th>\n",
       "      <td>Iron Man</td>\n",
       "      <td>Aventura</td>\n",
       "      <td>Aventura</td>\n",
       "    </tr>\n",
       "    <tr>\n",
       "      <th>7</th>\n",
       "      <td>Bruce Almighty</td>\n",
       "      <td>Comédia</td>\n",
       "      <td>Comédia</td>\n",
       "    </tr>\n",
       "    <tr>\n",
       "      <th>8</th>\n",
       "      <td>Scarface</td>\n",
       "      <td>Crime</td>\n",
       "      <td>Crime</td>\n",
       "    </tr>\n",
       "    <tr>\n",
       "      <th>9</th>\n",
       "      <td>Pretty Woman</td>\n",
       "      <td>Comédia Romântica</td>\n",
       "      <td>Drama</td>\n",
       "    </tr>\n",
       "  </tbody>\n",
       "</table>\n",
       "</div>"
      ],
      "text/plain": [
       "                 title             genres predicted\n",
       "0  The Bourne Identity               Ação      Ação\n",
       "1     Fast Food Nation       Documentário     Drama\n",
       "2              Platoon               Ação      Ação\n",
       "3           Free Willy           Aventura  Aventura\n",
       "4        The Godfather           Aventura  Aventura\n",
       "5        Puss in Boots           Infantil  Infantil\n",
       "6             Iron Man           Aventura  Aventura\n",
       "7       Bruce Almighty            Comédia   Comédia\n",
       "8             Scarface              Crime     Crime\n",
       "9         Pretty Woman  Comédia Romântica     Drama"
      ]
     },
     "execution_count": 15,
     "metadata": {},
     "output_type": "execute_result"
    }
   ],
   "source": [
    "test_queries(queries, svc_linear_stemmed_classifier, tfidf_vectorizer_stemmed)"
   ]
  },
  {
   "cell_type": "code",
   "execution_count": null,
   "metadata": {
    "collapsed": false
   },
   "outputs": [],
   "source": []
  },
  {
   "cell_type": "code",
   "execution_count": null,
   "metadata": {
    "collapsed": false
   },
   "outputs": [],
   "source": []
  },
  {
   "cell_type": "code",
   "execution_count": null,
   "metadata": {
    "collapsed": true
   },
   "outputs": [],
   "source": []
  }
 ],
 "metadata": {
  "kernelspec": {
   "display_name": "Python 3",
   "language": "python",
   "name": "python3"
  },
  "language_info": {
   "codemirror_mode": {
    "name": "ipython",
    "version": 3
   },
   "file_extension": ".py",
   "mimetype": "text/x-python",
   "name": "python",
   "nbconvert_exporter": "python",
   "pygments_lexer": "ipython3",
   "version": "3.5.2"
  }
 },
 "nbformat": 4,
 "nbformat_minor": 1
}
