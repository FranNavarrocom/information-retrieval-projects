{
 "cells": [
  {
   "cell_type": "code",
   "execution_count": 1,
   "metadata": {
    "collapsed": true
   },
   "outputs": [],
   "source": [
    "from app.search import Search\n",
    "from app.invertedIndex import InvertedIndex"
   ]
  },
  {
   "cell_type": "markdown",
   "metadata": {
    "collapsed": true
   },
   "source": [
    "## Inverted Index\n",
    "In order to create our index we need to specify the pathfile for our dump file, and optionaly a text file with stopwords to be ignored."
   ]
  },
  {
   "cell_type": "code",
   "execution_count": 2,
   "metadata": {
    "collapsed": false
   },
   "outputs": [],
   "source": [
    "index = InvertedIndex(\"data/ptwiki-v2.trec.xml\", \"data/stopwords.txt\")"
   ]
  },
  {
   "cell_type": "markdown",
   "metadata": {},
   "source": [
    "## Saving Index\n",
    "In order to save our index as a compressed json file, we can use the method `export_as_json` from our class InvertedIndex.\n",
    "\n",
    "optionaly, passing the filename we want to use for our index file and if we want to compress it using the gzip algorithm."
   ]
  },
  {
   "cell_type": "code",
   "execution_count": 3,
   "metadata": {
    "collapsed": false
   },
   "outputs": [],
   "source": [
    "index.export_as_json(\"index\", compressed=True)"
   ]
  },
  {
   "cell_type": "markdown",
   "metadata": {},
   "source": [
    "## Creating our Queries\n",
    "We simply create a search object using our text query and the index we want to search on."
   ]
  },
  {
   "cell_type": "code",
   "execution_count": 4,
   "metadata": {
    "collapsed": false
   },
   "outputs": [],
   "source": [
    "search_estados = Search(\"Estado\", index)\n",
    "search_unidos = Search(\"Unidos\", index)\n",
    "\n",
    "search_nomes = Search(\"nomes\", index)\n",
    "search_biblicos = Search(\"bíblicos\", index)\n",
    "\n",
    "search_winston = Search(\"Winston\", index)\n",
    "search_churchill = Search(\"Churchill\", index)"
   ]
  },
  {
   "cell_type": "markdown",
   "metadata": {},
   "source": [
    "## Filtering Searches\n",
    "Create and print *AND* and *OR* operations on each pair of queries we're interested on, more specifically:\n",
    "1. nomes, bíblicos (AND e OR);\n",
    "2. Estados, Unidos (AND e OR);\n",
    "3. Winston, Churchill (AND e OR)"
   ]
  },
  {
   "cell_type": "code",
   "execution_count": 5,
   "metadata": {
    "collapsed": false
   },
   "outputs": [
    {
     "name": "stdout",
     "output_type": "stream",
     "text": [
      "nomes AND bíblicos ->{'298', '685', '136', '821', '997', '758'}\n",
      "\n",
      "nomes OR bíblicos->{'512', '658', '417', '299', '817', '576', '145', '425', '61', '608', '219', '402', '702', '961', '709', '773', '4', '470', '194', '979', '898', '752', '494', '8', '656', '89', '160', '396', '593', '269', '321', '758', '260', '179', '351', '820', '6', '853', '685', '678', '562', '762', '422', '152', '993', '867', '528', '737', '249', '839', '568', '739', '835', '667', '793', '537', '578', '613', '607', '60', '610', '706', '580', '574', '28', '547', '305', '643', '662', '479', '878', '73', '234', '849', '513', '35', '67', '14', '942', '438', '427', '688', '655', '204', '136', '464', '476', '546', '151', '614', '767', '250', '573', '798', '682', '307', '557', '442', '212', '770', '301', '478', '641', '844', '881', '701', '886', '391', '183', '410', '298', '101', '56', '504', '976', '134', '792', '16', '339', '314', '759', '822', '990', '103', '142', '523', '555', '349', '848', '980', '59', '224', '290', '539', '47', '90', '294', '606', '695', '559', '833', '132', '167', '769', '542', '972', '725', '344', '746', '953', '902', '109', '225', '781', '821', '426', '54', '525', '347', '423', '411', '83', '550', '981', '566', '65', '885', '828', '342', '997', '664'}\n"
     ]
    }
   ],
   "source": [
    "nomes_and_biblicos = search_biblicos & search_nomes\n",
    "nomes_or_biblicos = search_biblicos | search_nomes\n",
    "\n",
    "print(\"nomes AND bíblicos ->{}\\n\\nnomes OR bíblicos->{}\".format(nomes_and_biblicos, nomes_or_biblicos))"
   ]
  },
  {
   "cell_type": "code",
   "execution_count": 6,
   "metadata": {
    "collapsed": false
   },
   "outputs": [
    {
     "name": "stdout",
     "output_type": "stream",
     "text": [
      "Estados AND Unidos -> {'592', '299', '61', '646', '599', '473', '402', '702', '45', '451', '961', '34', '505', '205', '238', '470', '194', '955', '979', '7', '752', '794', '494', '384', '125', '292', '29', '343', '8', '656', '89', '9', '593', '96', '66', '758', '6', '196', '678', '30', '562', '762', '852', '654', '690', '647', '737', '851', '249', '529', '807', '739', '335', '569', '578', '615', '613', '2', '434', '645', '610', '706', '580', '574', '223', '28', '736', '297', '590', '131', '643', '662', '479', '149', '170', '234', '513', '35', '62', '438', '319', '427', '655', '204', '322', '151', '614', '767', '250', '573', '682', '386', '698', '442', '212', '770', '641', '42', '750', '634', '785', '117', '102', '407', '814', '492', '56', '134', '130', '676', '164', '208', '142', '980', '224', '290', '891', '90', '604', '583', '172', '833', '167', '768', '32', '536', '86', '803', '284', '902', '143', '279', '225', '781', '600', '763', '426', '507', '54', '411', '964', '841', '981', '413', '488', '55', '65', '828', '278', '838'}\n",
      "\n",
      "Estados OR Unidos -> {'592', '197', '39', '328', '153', '815', '817', '145', '646', '61', '97', '46', '616', '100', '473', '888', '589', '709', '205', '238', '470', '194', '979', '7', '359', '139', '494', '384', '385', '105', '29', '441', '329', '666', '210', '8', '622', '9', '593', '396', '721', '214', '631', '758', '260', '895', '68', '802', '820', '448', '6', '853', '818', '196', '30', '852', '762', '422', '993', '274', '647', '720', '190', '851', '249', '327', '468', '127', '739', '335', '617', '793', '578', '615', '99', '669', '107', '2', '434', '338', '581', '645', '692', '223', '28', '691', '736', '714', '131', '643', '662', '182', '782', '479', '722', '149', '170', '234', '231', '889', '35', '37', '237', '106', '490', '526', '837', '806', '438', '58', '655', '93', '486', '136', '906', '476', '322', '731', '527', '614', '573', '682', '986', '386', '698', '226', '195', '43', '625', '896', '42', '751', '875', '429', '881', '543', '391', '951', '117', '755', '102', '407', '814', '651', '534', '318', '144', '87', '455', '976', '134', '582', '130', '676', '148', '797', '339', '262', '288', '759', '416', '257', '349', '848', '980', '293', '59', '440', '63', '290', '361', '894', '439', '255', '469', '816', '604', '583', '355', '695', '606', '201', '559', '620', '167', '769', '31', '810', '344', '746', '803', '726', '154', '463', '953', '623', '902', '872', '763', '821', '507', '54', '280', '426', '525', '477', '846', '411', '637', '841', '83', '499', '959', '566', '488', '55', '278', '948', '827', '44', '866', '124', '658', '436', '299', '444', '608', '599', '283', '702', '402', '309', '403', '45', '462', '451', '316', '961', '34', '505', '498', '955', '627', '898', '752', '794', '591', '125', '472', '292', '213', '345', '809', '343', '656', '89', '263', '495', '96', '66', '371', '520', '716', '493', '179', '92', '685', '428', '352', '678', '562', '867', '654', '561', '563', '690', '528', '824', '737', '517', '185', '529', '807', '839', '320', '53', '612', '611', '835', '569', '649', '912', '613', '177', '610', '325', '706', '535', '580', '574', '811', '547', '297', '590', '141', '513', '633', '244', '175', '67', '268', '62', '744', '450', '665', '511', '319', '427', '204', '453', '464', '443', '826', '151', '508', '250', '767', '798', '431', '766', '557', '135', '442', '212', '770', '478', '641', '844', '705', '360', '880', '246', '750', '701', '634', '785', '886', '183', '545', '1', '285', '222', '410', '235', '697', '864', '405', '756', '166', '618', '492', '56', '287', '760', '784', '164', '314', '52', '208', '326', '142', '624', '523', '555', '224', '882', '891', '419', '724', '675', '90', '404', '294', '172', '982', '295', '833', '132', '771', '138', '768', '32', '536', '176', '619', '86', '542', '725', '284', '143', '279', '958', '401', '225', '781', '636', '600', '358', '394', '954', '964', '556', '598', '981', '860', '413', '390', '65', '992', '885', '828', '745', '342', '838', '664'}\n"
     ]
    }
   ],
   "source": [
    "estados_and_unidos = search_estados & search_unidos\n",
    "estados_or_unidos = search_estados | search_unidos\n",
    "\n",
    "print(\"Estados AND Unidos -> {}\\n\\nEstados OR Unidos -> {}\".format(estados_and_unidos, estados_or_unidos))"
   ]
  },
  {
   "cell_type": "code",
   "execution_count": 7,
   "metadata": {
    "collapsed": false
   },
   "outputs": [
    {
     "name": "stdout",
     "output_type": "stream",
     "text": [
      "Winston AND Churchill -> {'844', '562', '647', '578'}\n",
      "\n",
      "Winston OR Churchill -> {'90', '322', '832', '844', '841', '562', '578', '647', '292'}\n"
     ]
    }
   ],
   "source": [
    "winston_and_churchill = search_winston & search_churchill \n",
    "winston_or_churchill = search_winston | search_churchill \n",
    "\n",
    "print(\"Winston AND Churchill -> {}\\n\\nWinston OR Churchill -> {}\".format(winston_and_churchill, winston_or_churchill))"
   ]
  }
 ],
 "metadata": {
  "kernelspec": {
   "display_name": "Python 3",
   "language": "python",
   "name": "python3"
  },
  "language_info": {
   "codemirror_mode": {
    "name": "ipython",
    "version": 3
   },
   "file_extension": ".py",
   "mimetype": "text/x-python",
   "name": "python",
   "nbconvert_exporter": "python",
   "pygments_lexer": "ipython3",
   "version": "3.5.2"
  }
 },
 "nbformat": 4,
 "nbformat_minor": 0
}
