{
 "cells": [
  {
   "cell_type": "code",
   "execution_count": 2,
   "metadata": {
    "collapsed": false
   },
   "outputs": [],
   "source": [
    "\n",
    "import re\n",
    "import glob\n",
    "from multiprocessing import Pool\n",
    "import numpy as np\n",
    "import pandas as pd\n",
    "import nltk"
   ]
  },
  {
   "cell_type": "code",
   "execution_count": 5,
   "metadata": {
    "collapsed": false
   },
   "outputs": [],
   "source": [
    "# Constants\n",
    "TITLE = re.compile(\"(\\/)(.*?)(\\.)\")\n",
    "HTML_TAG = re.compile(\"<.*?>\")\n",
    "\n",
    "STOP_WORDS = nltk.corpus.stopwords.words('portuguese')"
   ]
  },
  {
   "cell_type": "code",
   "execution_count": 85,
   "metadata": {
    "collapsed": false
   },
   "outputs": [],
   "source": [
    "class Subtitle:\n",
    "    def __init__(self, filepath):\n",
    "        self._title = \"\"\n",
    "        self._text = []\n",
    "        self.genre = \"\"\n",
    "        self._encoding = \"\"\n",
    "        \n",
    "        self._initialize(filepath)\n",
    "        \n",
    "    @property\n",
    "    def text(self):\n",
    "        return self._text\n",
    "    \n",
    "    @property\n",
    "    def title(self):\n",
    "        return self._title\n",
    "    \n",
    "    @property\n",
    "    def encoding(self):\n",
    "        return self._encoding\n",
    "    \n",
    "    def _initialize(self, filepath):\n",
    "        #TODO: check why chardet is wrongly classifing latin-1 files\n",
    "#         self._encoding = self._get_encoding(filepath)\n",
    "        self._encoding = \"latin-1\"\n",
    "        self._title = self._parse_title(filepath)\n",
    "        self._text = self._parse_text(filepath, self._encoding)\n",
    "    \n",
    "    def _get_encoding(self, filepath):\n",
    "        raw_data = open(filepath, 'rb').read()\n",
    "        return chardet.detect(raw_data)['encoding']\n",
    "    \n",
    "    def _parse_title(self, filepath):\n",
    "        title = TITLE.search(filepath)\n",
    "        return title.group(2).strip()\n",
    "    \n",
    "    def _parse_text(self, filepath, encoding):\n",
    "        def parse_block(block):\n",
    "            lines   = block.split('\\n')\n",
    "            txt     = ' '.join(lines[2:])\n",
    "            txt = self._canonize(txt)\n",
    "            return txt\n",
    "        # We don't consider the last three blocks, since usually they're credits for the translators and/or \n",
    "        # style definition for the subtitles\n",
    "        with open(filepath, encoding=\"latin-1\") as f:\n",
    "            sub_file = f.read()\n",
    "            sub_file = sub_file.strip().replace('\\r', '').split('\\n\\n')[:-3]\n",
    "            lines = map(parse_block, sub_file)\n",
    "            return ' '.join(lines).strip()\n",
    "    \n",
    "    def _canonize(self, text):\n",
    "        text = HTML_TAG.sub(\"\", text)\n",
    "        return text\n",
    "    \n",
    "    def __eq__(self, other):\n",
    "        return (isinstance(other, self__class__)\n",
    "               and self._title == other.title\n",
    "               and self._text == other.text )"
   ]
  },
  {
   "cell_type": "code",
   "execution_count": 86,
   "metadata": {
    "collapsed": false
   },
   "outputs": [],
   "source": [
    "def parse_file(filepath):\n",
    "#     print(filepath)\n",
    "    return Subtitle(filepath)\n",
    "\n",
    "def create_subs(files, num_processes=4, chunksize=10):\n",
    "    # create pool of processes to create Legenda objects\n",
    "    pool = Pool(processes=num_processes)\n",
    "    result = pool.map(parse_file, files, chunksize)\n",
    "    \n",
    "    return result"
   ]
  },
  {
   "cell_type": "code",
   "execution_count": 12,
   "metadata": {
    "collapsed": false
   },
   "outputs": [
    {
     "data": {
      "text/plain": [
       "['Legendas/ Beira do Caminho (2012).DVDRip.3LT0N.br.srt',\n",
       " 'Legendas/10000 B.C.(2008).XViD-PreVaill.br.srt',\n",
       " 'Legendas/12 Rounds.DVDRip.aXXo.br.srt',\n",
       " 'Legendas/127 Hours (2010).BDRip.Larceny.br.srt',\n",
       " 'Legendas/15 Minutes(2001).br.srt',\n",
       " 'Legendas/17 Again.720p.REFiNED.br.srt',\n",
       " 'Legendas/1984 (1956).br.srt',\n",
       " 'Legendas/2 Fast 2 Furious.DVDScr.DVL.br.srt',\n",
       " 'Legendas/20000 Leagues Under The Sea (1954).br.srt',\n",
       " 'Legendas/21 21 The Movie .R5.PUKKA.br.srt']"
      ]
     },
     "execution_count": 12,
     "metadata": {},
     "output_type": "execute_result"
    }
   ],
   "source": [
    "files = glob.glob('Legendas/*.srt')\n",
    "files[0:10]"
   ]
  },
  {
   "cell_type": "code",
   "execution_count": 37,
   "metadata": {
    "collapsed": false
   },
   "outputs": [
    {
     "name": "stdout",
     "output_type": "stream",
     "text": [
      "CPU times: user 87.2 ms, sys: 80.9 ms, total: 168 ms\n",
      "Wall time: 1.29 s\n"
     ]
    }
   ],
   "source": [
    "%time subs = create_subs(files)"
   ]
  },
  {
   "cell_type": "code",
   "execution_count": 41,
   "metadata": {
    "collapsed": false
   },
   "outputs": [],
   "source": [
    "titles = [s.title for s in subs]\n",
    "subs = [s.text for s in subs]"
   ]
  },
  {
   "cell_type": "code",
   "execution_count": 39,
   "metadata": {
    "collapsed": true
   },
   "outputs": [],
   "source": [
    "def tokenize(text, stem=False):\n",
    "    sent_tokenizer = nltk.data.load('tokenizers/punkt/portuguese.pickle')\n",
    "    stemmer = nltk.stem.RSLPStemmer()\n",
    "    \n",
    "    tokens = [word.lower() for sentence in sent_tokenizer.tokenize(text) \\\n",
    "              for word in nltk.word_tokenize(sentence) if word.isalpha()]\n",
    "    if stem:\n",
    "        stems = [stemmer.stem(token) for token in tokens]\n",
    "        return stems\n",
    "    else:\n",
    "        return tokens"
   ]
  },
  {
   "cell_type": "markdown",
   "metadata": {},
   "source": [
    "## TF-IDF"
   ]
  },
  {
   "cell_type": "code",
   "execution_count": 56,
   "metadata": {
    "collapsed": false
   },
   "outputs": [
    {
     "name": "stdout",
     "output_type": "stream",
     "text": [
      "CPU times: user 2min 39s, sys: 2.84 s, total: 2min 42s\n",
      "Wall time: 2min 44s\n",
      "(631, 1659)\n"
     ]
    }
   ],
   "source": [
    "from sklearn.feature_extraction.text import TfidfVectorizer\n",
    "\n",
    "# define TF-IDF parameters\n",
    "tfidf_vectorizer = TfidfVectorizer(max_df=0.8, max_features=200000,\n",
    "                                   min_df=0.2, stop_words=STOP_WORDS,\n",
    "                                  use_idf=True, tokenizer=tokenize, ngram_range=(1,3))\n",
    "\n",
    "%time tfidf_matrix = tfidf_vectorizer.fit_transform(subs)\n",
    "\n",
    "print(tfidf_matrix.shape)"
   ]
  },
  {
   "cell_type": "code",
   "execution_count": 58,
   "metadata": {
    "collapsed": false
   },
   "outputs": [],
   "source": [
    "# list of TF-IDF Matrix features (vocabulary of our corpus)\n",
    "terms = tfidf_vectorizer.get_feature_names()"
   ]
  },
  {
   "cell_type": "markdown",
   "metadata": {
    "collapsed": false
   },
   "source": [
    "## K-means Clustering"
   ]
  },
  {
   "cell_type": "code",
   "execution_count": 61,
   "metadata": {
    "collapsed": false
   },
   "outputs": [
    {
     "name": "stdout",
     "output_type": "stream",
     "text": [
      "CPU times: user 1.23 s, sys: 1.37 s, total: 2.59 s\n",
      "Wall time: 4.02 s\n"
     ]
    },
    {
     "data": {
      "text/plain": [
       "KMeans(copy_x=True, init='k-means++', max_iter=300, n_clusters=12, n_init=10,\n",
       "    n_jobs=-1, precompute_distances='auto', random_state=None, tol=0.0001,\n",
       "    verbose=0)"
      ]
     },
     "execution_count": 61,
     "metadata": {},
     "output_type": "execute_result"
    }
   ],
   "source": [
    "from sklearn.cluster import KMeans\n",
    "\n",
    "# TODO: use method from http://dl.acm.org/citation.cfm?doid=99935.99938\n",
    "# using the number of movies genres\n",
    "num_clusters = 12\n",
    "kmean = KMeans(n_clusters=num_clusters, n_jobs=-1)\n",
    "\n",
    "%time kmean.fit(tfidf_matrix)"
   ]
  },
  {
   "cell_type": "markdown",
   "metadata": {},
   "source": [
    "## K - Nearest Neighbors"
   ]
  },
  {
   "cell_type": "code",
   "execution_count": 115,
   "metadata": {
    "collapsed": false
   },
   "outputs": [
    {
     "ename": "TypeError",
     "evalue": "fit() missing 1 required positional argument: 'y'",
     "output_type": "error",
     "traceback": [
      "\u001b[0;31m---------------------------------------------------------------------------\u001b[0m",
      "\u001b[0;31mTypeError\u001b[0m                                 Traceback (most recent call last)",
      "\u001b[0;32m<ipython-input-115-f46c29838abb>\u001b[0m in \u001b[0;36m<module>\u001b[0;34m()\u001b[0m\n\u001b[1;32m      3\u001b[0m \u001b[0mknn\u001b[0m \u001b[0;34m=\u001b[0m \u001b[0mKNeighborsClassifier\u001b[0m\u001b[0;34m(\u001b[0m\u001b[0malgorithm\u001b[0m\u001b[0;34m=\u001b[0m\u001b[0;34m'auto'\u001b[0m\u001b[0;34m)\u001b[0m\u001b[0;34m\u001b[0m\u001b[0m\n\u001b[1;32m      4\u001b[0m \u001b[0;34m\u001b[0m\u001b[0m\n\u001b[0;32m----> 5\u001b[0;31m \u001b[0mget_ipython\u001b[0m\u001b[0;34m(\u001b[0m\u001b[0;34m)\u001b[0m\u001b[0;34m.\u001b[0m\u001b[0mmagic\u001b[0m\u001b[0;34m(\u001b[0m\u001b[0;34m'time knn.fit(tfidf_matrix)'\u001b[0m\u001b[0;34m)\u001b[0m\u001b[0;34m\u001b[0m\u001b[0m\n\u001b[0m",
      "\u001b[0;32m/usr/local/lib/python3.5/site-packages/IPython/core/interactiveshell.py\u001b[0m in \u001b[0;36mmagic\u001b[0;34m(self, arg_s)\u001b[0m\n\u001b[1;32m   2156\u001b[0m         \u001b[0mmagic_name\u001b[0m\u001b[0;34m,\u001b[0m \u001b[0m_\u001b[0m\u001b[0;34m,\u001b[0m \u001b[0mmagic_arg_s\u001b[0m \u001b[0;34m=\u001b[0m \u001b[0marg_s\u001b[0m\u001b[0;34m.\u001b[0m\u001b[0mpartition\u001b[0m\u001b[0;34m(\u001b[0m\u001b[0;34m' '\u001b[0m\u001b[0;34m)\u001b[0m\u001b[0;34m\u001b[0m\u001b[0m\n\u001b[1;32m   2157\u001b[0m         \u001b[0mmagic_name\u001b[0m \u001b[0;34m=\u001b[0m \u001b[0mmagic_name\u001b[0m\u001b[0;34m.\u001b[0m\u001b[0mlstrip\u001b[0m\u001b[0;34m(\u001b[0m\u001b[0mprefilter\u001b[0m\u001b[0;34m.\u001b[0m\u001b[0mESC_MAGIC\u001b[0m\u001b[0;34m)\u001b[0m\u001b[0;34m\u001b[0m\u001b[0m\n\u001b[0;32m-> 2158\u001b[0;31m         \u001b[0;32mreturn\u001b[0m \u001b[0mself\u001b[0m\u001b[0;34m.\u001b[0m\u001b[0mrun_line_magic\u001b[0m\u001b[0;34m(\u001b[0m\u001b[0mmagic_name\u001b[0m\u001b[0;34m,\u001b[0m \u001b[0mmagic_arg_s\u001b[0m\u001b[0;34m)\u001b[0m\u001b[0;34m\u001b[0m\u001b[0m\n\u001b[0m\u001b[1;32m   2159\u001b[0m \u001b[0;34m\u001b[0m\u001b[0m\n\u001b[1;32m   2160\u001b[0m     \u001b[0;31m#-------------------------------------------------------------------------\u001b[0m\u001b[0;34m\u001b[0m\u001b[0;34m\u001b[0m\u001b[0m\n",
      "\u001b[0;32m/usr/local/lib/python3.5/site-packages/IPython/core/interactiveshell.py\u001b[0m in \u001b[0;36mrun_line_magic\u001b[0;34m(self, magic_name, line)\u001b[0m\n\u001b[1;32m   2077\u001b[0m                 \u001b[0mkwargs\u001b[0m\u001b[0;34m[\u001b[0m\u001b[0;34m'local_ns'\u001b[0m\u001b[0;34m]\u001b[0m \u001b[0;34m=\u001b[0m \u001b[0msys\u001b[0m\u001b[0;34m.\u001b[0m\u001b[0m_getframe\u001b[0m\u001b[0;34m(\u001b[0m\u001b[0mstack_depth\u001b[0m\u001b[0;34m)\u001b[0m\u001b[0;34m.\u001b[0m\u001b[0mf_locals\u001b[0m\u001b[0;34m\u001b[0m\u001b[0m\n\u001b[1;32m   2078\u001b[0m             \u001b[0;32mwith\u001b[0m \u001b[0mself\u001b[0m\u001b[0;34m.\u001b[0m\u001b[0mbuiltin_trap\u001b[0m\u001b[0;34m:\u001b[0m\u001b[0;34m\u001b[0m\u001b[0m\n\u001b[0;32m-> 2079\u001b[0;31m                 \u001b[0mresult\u001b[0m \u001b[0;34m=\u001b[0m \u001b[0mfn\u001b[0m\u001b[0;34m(\u001b[0m\u001b[0;34m*\u001b[0m\u001b[0margs\u001b[0m\u001b[0;34m,\u001b[0m\u001b[0;34m**\u001b[0m\u001b[0mkwargs\u001b[0m\u001b[0;34m)\u001b[0m\u001b[0;34m\u001b[0m\u001b[0m\n\u001b[0m\u001b[1;32m   2080\u001b[0m             \u001b[0;32mreturn\u001b[0m \u001b[0mresult\u001b[0m\u001b[0;34m\u001b[0m\u001b[0m\n\u001b[1;32m   2081\u001b[0m \u001b[0;34m\u001b[0m\u001b[0m\n",
      "\u001b[0;32m<decorator-gen-59>\u001b[0m in \u001b[0;36mtime\u001b[0;34m(self, line, cell, local_ns)\u001b[0m\n",
      "\u001b[0;32m/usr/local/lib/python3.5/site-packages/IPython/core/magic.py\u001b[0m in \u001b[0;36m<lambda>\u001b[0;34m(f, *a, **k)\u001b[0m\n\u001b[1;32m    186\u001b[0m     \u001b[0;31m# but it's overkill for just that one bit of state.\u001b[0m\u001b[0;34m\u001b[0m\u001b[0;34m\u001b[0m\u001b[0m\n\u001b[1;32m    187\u001b[0m     \u001b[0;32mdef\u001b[0m \u001b[0mmagic_deco\u001b[0m\u001b[0;34m(\u001b[0m\u001b[0marg\u001b[0m\u001b[0;34m)\u001b[0m\u001b[0;34m:\u001b[0m\u001b[0;34m\u001b[0m\u001b[0m\n\u001b[0;32m--> 188\u001b[0;31m         \u001b[0mcall\u001b[0m \u001b[0;34m=\u001b[0m \u001b[0;32mlambda\u001b[0m \u001b[0mf\u001b[0m\u001b[0;34m,\u001b[0m \u001b[0;34m*\u001b[0m\u001b[0ma\u001b[0m\u001b[0;34m,\u001b[0m \u001b[0;34m**\u001b[0m\u001b[0mk\u001b[0m\u001b[0;34m:\u001b[0m \u001b[0mf\u001b[0m\u001b[0;34m(\u001b[0m\u001b[0;34m*\u001b[0m\u001b[0ma\u001b[0m\u001b[0;34m,\u001b[0m \u001b[0;34m**\u001b[0m\u001b[0mk\u001b[0m\u001b[0;34m)\u001b[0m\u001b[0;34m\u001b[0m\u001b[0m\n\u001b[0m\u001b[1;32m    189\u001b[0m \u001b[0;34m\u001b[0m\u001b[0m\n\u001b[1;32m    190\u001b[0m         \u001b[0;32mif\u001b[0m \u001b[0mcallable\u001b[0m\u001b[0;34m(\u001b[0m\u001b[0marg\u001b[0m\u001b[0;34m)\u001b[0m\u001b[0;34m:\u001b[0m\u001b[0;34m\u001b[0m\u001b[0m\n",
      "\u001b[0;32m/usr/local/lib/python3.5/site-packages/IPython/core/magics/execution.py\u001b[0m in \u001b[0;36mtime\u001b[0;34m(self, line, cell, local_ns)\u001b[0m\n\u001b[1;32m   1174\u001b[0m         \u001b[0;32mif\u001b[0m \u001b[0mmode\u001b[0m\u001b[0;34m==\u001b[0m\u001b[0;34m'eval'\u001b[0m\u001b[0;34m:\u001b[0m\u001b[0;34m\u001b[0m\u001b[0m\n\u001b[1;32m   1175\u001b[0m             \u001b[0mst\u001b[0m \u001b[0;34m=\u001b[0m \u001b[0mclock2\u001b[0m\u001b[0;34m(\u001b[0m\u001b[0;34m)\u001b[0m\u001b[0;34m\u001b[0m\u001b[0m\n\u001b[0;32m-> 1176\u001b[0;31m             \u001b[0mout\u001b[0m \u001b[0;34m=\u001b[0m \u001b[0meval\u001b[0m\u001b[0;34m(\u001b[0m\u001b[0mcode\u001b[0m\u001b[0;34m,\u001b[0m \u001b[0mglob\u001b[0m\u001b[0;34m,\u001b[0m \u001b[0mlocal_ns\u001b[0m\u001b[0;34m)\u001b[0m\u001b[0;34m\u001b[0m\u001b[0m\n\u001b[0m\u001b[1;32m   1177\u001b[0m             \u001b[0mend\u001b[0m \u001b[0;34m=\u001b[0m \u001b[0mclock2\u001b[0m\u001b[0;34m(\u001b[0m\u001b[0;34m)\u001b[0m\u001b[0;34m\u001b[0m\u001b[0m\n\u001b[1;32m   1178\u001b[0m         \u001b[0;32melse\u001b[0m\u001b[0;34m:\u001b[0m\u001b[0;34m\u001b[0m\u001b[0m\n",
      "\u001b[0;32m<timed eval>\u001b[0m in \u001b[0;36m<module>\u001b[0;34m()\u001b[0m\n",
      "\u001b[0;31mTypeError\u001b[0m: fit() missing 1 required positional argument: 'y'"
     ]
    }
   ],
   "source": [
    "from sklearn.neighbors import KNeighborsClassifier\n",
    "\n",
    "knn = KNeighborsClassifier(algorithm='auto')\n",
    "\n",
    "%time knn.fit(tfidf_matrix)"
   ]
  },
  {
   "cell_type": "markdown",
   "metadata": {
    "collapsed": true
   },
   "source": [
    "### Some queries"
   ]
  },
  {
   "cell_type": "code",
   "execution_count": 96,
   "metadata": {
    "collapsed": false
   },
   "outputs": [],
   "source": [
    "# Queries in the format (title, Subtitle)\n",
    "queries = {\"Ace Ventura Pet Detective\": Subtitle(\"Legendas/Ace Ventura Pet Detective.DVDRip.BugBunny.br.srt\"), \n",
    "          \"Poltergeist\": Subtitle(\"Legendas/Poltergeist(1982).br.srt\"),\n",
    "          \"Lord of the Rings The Fellowship of the Ring\": Subtitle(\"Legendas/Lord of the Rings The Fellowship of the Ring The.DVDRip.SecretMyth.br.srt\"),\n",
    "          \"Fantastic Four\": Subtitle(\"Legendas/Fantastic Four.DVDRip.br.srt\"),\n",
    "          \"Frozen\": Subtitle(\"Legendas/Frozen.720p.BlueRay.YIFY.br.srt\")}\n",
    "\n"
   ]
  },
  {
   "cell_type": "code",
   "execution_count": 114,
   "metadata": {
    "collapsed": false
   },
   "outputs": [
    {
     "name": "stdout",
     "output_type": "stream",
     "text": [
      "Ace Ventura Pet Detective\n",
      "\t1 - Ace Ventura Jr Pet Detective (0.531)\n",
      "\t2 - Jurassic World (0.612)\n",
      "\t3 - Devil s Advocate The (0.626)\n",
      "\t4 - Ace Ventura When Nature Calls (0.627)\n",
      "\t5 - Zodiac (0.647)\n",
      "Lord of the Rings The Fellowship of the Ring\n",
      "\t1 - Lord of the Rings The Two Towers The (0.385)\n",
      "\t2 - Lord of the Rings The Return of the King The (0.41)\n",
      "\t3 - Ben Hur (1959) (0.492)\n",
      "\t4 - The Hobbit An Unexpected Journey (2012) (0.502)\n",
      "\t5 - Mis rables Les (2013) (0.546)\n",
      "Fantastic Four\n",
      "\t1 - Imposter The (2008) (0.336)\n",
      "\t2 - Ghost Rider (0.404)\n",
      "\t3 - Intouchables Untouchable  (2011) (0.404)\n",
      "\t4 - Time Traveler s Wife The (0.409)\n",
      "\t5 - Cinderella Story A (0.411)\n",
      "Poltergeist\n",
      "\t1 - Volver (0.53)\n",
      "\t2 - Others The (2001) (0.535)\n",
      "\t3 - Premonition(2007) (0.567)\n",
      "\t4 - Paranormal Activity The Ghost Dimension (0.593)\n",
      "\t5 - Shrek 2 (2004) (0.603)\n",
      "Frozen\n",
      "\t1 - Shrek (0.403)\n",
      "\t2 - Blonde and Blonder(2007) (0.53)\n",
      "\t3 - Butterfly Effect 2 The (0.537)\n",
      "\t4 - A Life Less Ordinary (0.54)\n",
      "\t5 - Open Season (0.55)\n"
     ]
    }
   ],
   "source": [
    "from sklearn.metrics.pairwise import linear_kernel\n",
    "\n",
    "for title, sub in queries.items():\n",
    "    doc_tfidf = tfidf_vectorizer.transform([sub.text])\n",
    "    # get the top 6 (since we used all the movies to train, the first one is the doc itself)\n",
    "    cos_distance = 1 - linear_kernel(doc_tfidf, tfidf_matrix).flatten()\n",
    "    # we ignore the first argument since is the doc itself (we trained using all movies)\n",
    "    rank = cos_distance.argsort()[1:6]\n",
    "    # print rank\n",
    "    print(title)\n",
    "    for i, rank_idx in enumerate(rank):\n",
    "        print(\"\\t{pos} - {title} ({cos_dist:.3})\".format(pos=i+1,\n",
    "                                                     title=titles[int(rank_idx)],\n",
    "                                                     cos_dist=cos_distance[rank_idx]))\n",
    "    "
   ]
  },
  {
   "cell_type": "markdown",
   "metadata": {},
   "source": [
    "### Relatory\n",
    "\n",
    "   #### Ace Ventura Pet Detective:\n",
    "   O primeiro filme mais proximo (Ace Ventura Jr Pet Detective) faz todo sentido ser o mais proximo, já que o mesmo vêm é um filme da mesma franquia. Porêm algo interessante é o fato dos filmes _Jurassic World_ e _The Devil's Advocata_ terem uma maior semelhança que outro filme da mesma franquia. Outro resultado estranho é o fato de o filme Zodiac, que é um filme sobre um Serial Killer está fortemente relacionado a esse filme.\n",
    "   \n",
    "   #### Lord of the Rings The Fellowship of the Ring\n",
    "   Os dois primeiros resultados são o esperado, dado que são os outros filmes da mesma trilogia. O filme Ben Hur é um filme que conta a historia de um guerreiro, portanto a linguagem utilizada provavelmente se assemelha ao estilo utilizado na terra média, porêm sua posição me é interessante por ser mais proximo que outro filme do mesmo universo (_The Hobbit An Unexpected Journey_). O filme Les Miserables, eu não consigo entender bem porque ele é considerado proximo do Senhor dos Aneis.\n",
    "   \n",
    "   #### Fantastic Four\n",
    "   É um dos mais interessantes tento em vista que a sequência do mesmo não está presente no top 5. Na verdade o unico filme to top-5 que faz algum sentido é o _Ghost Rider_. Um fato bastante curioso é o filme _The Imposter_ que conta a historia de um _Con Artist_ que engana uma familia para pensar que o mesmo é um mebro da mesma que desapareceu, eu não consigo encontrar nenhuma conexão com esse filme e o quarteto fantastico; tambem não consigo encontrar muita conexão entre os outros filmes no top-5 (_Intouchables Untouchable_, _The Time Traveler's Wife_ e _Cinderella_)\n",
    "   \n",
    "   #### Poltergeist\n",
    "   Todos os filmes no top-5 (a parte de Shrek 2) fazem sentido pois são filmes de fantasmas e atividades paranormais. O filme Shrek é bastante curioso para mim, já que o mesmo é um filme infantil, com pouca ou nenhuma ligação a um filme de terror.\n",
    "   \n",
    "   #### Frozen\n",
    "   O primeiro filme _Shrek_ faz todo sentido já que conta a historia de uma princesa com uma maldição, o que é semelhante ao nucleo da historio de _Frozen_. Retirando _Open Season_ que é um filme infantil, porêm com pouca semelhança com o plot de Frozen, todos os outros filmes não fazem muito sentido, _Blonde and Blonder_ é um besteirol americano, _The Butterfly Effect 2_ é um filme de ficção ciêntifica e o filme _A Life Less Ordinary_ é um romance."
   ]
  }
 ],
 "metadata": {
  "kernelspec": {
   "display_name": "Python 3",
   "language": "python",
   "name": "python3"
  },
  "language_info": {
   "codemirror_mode": {
    "name": "ipython",
    "version": 3
   },
   "file_extension": ".py",
   "mimetype": "text/x-python",
   "name": "python",
   "nbconvert_exporter": "python",
   "pygments_lexer": "ipython3",
   "version": "3.5.2"
  }
 },
 "nbformat": 4,
 "nbformat_minor": 1
}
